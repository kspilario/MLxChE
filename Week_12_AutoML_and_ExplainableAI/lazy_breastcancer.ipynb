{
  "metadata": {
    "language_info": {
      "codemirror_mode": {
        "name": "python",
        "version": 3
      },
      "file_extension": ".py",
      "mimetype": "text/x-python",
      "name": "python",
      "nbconvert_exporter": "python",
      "pygments_lexer": "ipython3",
      "version": "3.8"
    },
    "kernelspec": {
      "name": "python",
      "display_name": "Python (Pyodide)",
      "language": "python"
    }
  },
  "nbformat_minor": 4,
  "nbformat": 4,
  "cells": [
    {
      "cell_type": "markdown",
      "source": "# Lazy Classifier: Breast Cancer Data\nReference: https://pypi.org/project/lazypredict/",
      "metadata": {}
    },
    {
      "cell_type": "code",
      "source": "import piplite\nawait piplite.install('lazypredict')\nimport lazypredict\n\nfrom lazypredict.Supervised import LazyClassifier\nfrom sklearn.datasets import load_breast_cancer\nfrom sklearn.model_selection import train_test_split\n\ndata = load_breast_cancer()\nX = data.data\ny= data.target\n\nX_train, X_test, y_train, y_test = train_test_split(X, y,test_size=.5,random_state =123)\n\nclf = LazyClassifier(verbose=0,ignore_warnings=True, custom_metric=None)\nmodels,predictions = clf.fit(X_train, X_test, y_train, y_test)\n\nprint(models)",
      "metadata": {
        "trusted": true
      },
      "execution_count": 1,
      "outputs": [
        {
          "name": "stderr",
          "text": "100%|██████████| 29/29 [00:01<00:00, 16.79it/s]\n",
          "output_type": "stream"
        },
        {
          "name": "stdout",
          "text": "                               Accuracy  Balanced Accuracy  ROC AUC  F1 Score  \\\nModel                                                                           \nLinearSVC                          0.99               0.99     0.99      0.99   \nPerceptron                         0.99               0.98     0.98      0.99   \nLogisticRegression                 0.99               0.98     0.98      0.99   \nSVC                                0.98               0.98     0.98      0.98   \nXGBClassifier                      0.98               0.98     0.98      0.98   \nLabelPropagation                   0.98               0.97     0.97      0.98   \nLabelSpreading                     0.98               0.97     0.97      0.98   \nBaggingClassifier                  0.97               0.97     0.97      0.97   \nPassiveAggressiveClassifier        0.98               0.97     0.97      0.98   \nSGDClassifier                      0.98               0.97     0.97      0.98   \nRandomForestClassifier             0.97               0.97     0.97      0.97   \nCalibratedClassifierCV             0.98               0.97     0.97      0.98   \nLGBMClassifier                     0.97               0.97     0.97      0.97   \nQuadraticDiscriminantAnalysis      0.96               0.97     0.97      0.97   \nExtraTreesClassifier               0.97               0.96     0.96      0.97   \nRidgeClassifierCV                  0.97               0.96     0.96      0.97   \nRidgeClassifier                    0.97               0.96     0.96      0.97   \nAdaBoostClassifier                 0.96               0.96     0.96      0.96   \nKNeighborsClassifier               0.96               0.96     0.96      0.96   \nBernoulliNB                        0.95               0.95     0.95      0.95   \nLinearDiscriminantAnalysis         0.96               0.95     0.95      0.96   \nGaussianNB                         0.95               0.95     0.95      0.95   \nNuSVC                              0.95               0.94     0.94      0.95   \nExtraTreeClassifier                0.94               0.93     0.93      0.94   \nNearestCentroid                    0.95               0.93     0.93      0.95   \nDecisionTreeClassifier             0.93               0.93     0.93      0.93   \nDummyClassifier                    0.64               0.50     0.50      0.50   \n\n                               Time Taken  \nModel                                      \nLinearSVC                            0.02  \nPerceptron                           0.02  \nLogisticRegression                   0.03  \nSVC                                  0.02  \nXGBClassifier                        0.13  \nLabelPropagation                     0.03  \nLabelSpreading                       0.03  \nBaggingClassifier                    0.07  \nPassiveAggressiveClassifier          0.02  \nSGDClassifier                        0.02  \nRandomForestClassifier               0.29  \nCalibratedClassifierCV               0.07  \nLGBMClassifier                       0.17  \nQuadraticDiscriminantAnalysis        0.03  \nExtraTreesClassifier                 0.21  \nRidgeClassifierCV                    0.02  \nRidgeClassifier                      0.02  \nAdaBoostClassifier                   0.29  \nKNeighborsClassifier                 0.04  \nBernoulliNB                          0.02  \nLinearDiscriminantAnalysis           0.03  \nGaussianNB                           0.02  \nNuSVC                                0.03  \nExtraTreeClassifier                  0.02  \nNearestCentroid                      0.02  \nDecisionTreeClassifier               0.02  \nDummyClassifier                      0.02  \n",
          "output_type": "stream"
        }
      ]
    },
    {
      "cell_type": "code",
      "source": "",
      "metadata": {},
      "execution_count": null,
      "outputs": []
    }
  ]
}